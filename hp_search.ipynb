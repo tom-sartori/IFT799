{
 "cells": [
  {
   "cell_type": "markdown",
   "metadata": {},
   "source": [
    "# Hyperparameter search for DecisionTreeClassifier"
   ]
  },
  {
   "cell_type": "code",
   "execution_count": 1,
   "metadata": {},
   "outputs": [],
   "source": [
    "import src.data as data\n",
    "import src.preprocessing as preprocessing\n",
    "\n",
    "from sklearn.model_selection import GridSearchCV\n",
    "from sklearn.tree import DecisionTreeClassifier"
   ]
  },
  {
   "cell_type": "markdown",
   "metadata": {},
   "source": [
    "Importing our training data:"
   ]
  },
  {
   "cell_type": "code",
   "execution_count": 5,
   "metadata": {},
   "outputs": [],
   "source": [
    "ratings_train = data.load_train_ratings()"
   ]
  },
  {
   "cell_type": "markdown",
   "metadata": {},
   "source": [
    "Selecting the ratings of the 5 closest users that have rated the movie for each couple of user and movie"
   ]
  },
  {
   "cell_type": "code",
   "execution_count": 6,
   "metadata": {},
   "outputs": [],
   "source": [
    "# Can take several minutes to run (5-10)\n",
    "\n",
    "five_closest_users = preprocessing.five_closest_users(ratings_train)"
   ]
  },
  {
   "cell_type": "markdown",
   "metadata": {},
   "source": [
    "Setting the ranges of the hyperparameters to be tested"
   ]
  },
  {
   "cell_type": "code",
   "execution_count": 27,
   "metadata": {},
   "outputs": [],
   "source": [
    "param_grid = {\n",
    "    \"criterion\": [\"gini\", \"entropy\"],\n",
    "    \"splitter\": [\"best\", \"random\"],\n",
    "    \"max_depth\": [None, 5, 10, 50, 100, 200, 500],\n",
    "    \"min_samples_split\": [2, 5, 10, 20, 50, 100],\n",
    "    \"min_samples_leaf\": [1, 2, 5, 10, 20, 50, 100],\n",
    "    \"max_features\": [\"sqrt\", \"log2\"]\n",
    "}"
   ]
  },
  {
   "cell_type": "markdown",
   "metadata": {},
   "source": [
    "Using the `GridSearchCV` function from `sklearn` to find the best hyperparameters. It uses cross-validation to evaluate the performance of each combination of hyperparameters and select the best one based on the chosen metric."
   ]
  },
  {
   "cell_type": "code",
   "execution_count": null,
   "metadata": {},
   "outputs": [],
   "source": [
    "# Takes approx. 2s per fit\n",
    "\n",
    "classifier = DecisionTreeClassifier()\n",
    "\n",
    "print(\"Classifier:\", classifier.__class__.__name__)\n",
    "print(\"Parameters explored:\")\n",
    "for key in param_grid:\n",
    "    print(f\"\\t{key:12}: {param_grid[key]}\")\n",
    "print(\"\\n\")\n",
    "\n",
    "grid_search = GridSearchCV(classifier, param_grid, cv=2, scoring=\"f1_micro\", verbose=1)\n",
    "grid_search.fit(list(five_closest_users.values()), [rating for _, _, rating in five_closest_users.keys()])\n",
    "print(\"Best parameters set found on the training set:\")\n",
    "for key in grid_search.best_params_:\n",
    "    print(f\"\\t{key:12}: {grid_search.best_params_[key]}\")\n",
    "print(\"\")\n",
    "print(\"Best score:\")\n",
    "print(grid_search.best_score_)"
   ]
  }
 ],
 "metadata": {
  "kernelspec": {
   "display_name": "Python 3",
   "language": "python",
   "name": "python3"
  },
  "language_info": {
   "codemirror_mode": {
    "name": "ipython",
    "version": 3
   },
   "file_extension": ".py",
   "mimetype": "text/x-python",
   "name": "python",
   "nbconvert_exporter": "python",
   "pygments_lexer": "ipython3",
   "version": "3.10.4"
  }
 },
 "nbformat": 4,
 "nbformat_minor": 2
}
